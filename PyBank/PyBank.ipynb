{
 "cells": [
  {
   "cell_type": "code",
   "execution_count": 149,
   "metadata": {},
   "outputs": [],
   "source": [
    "# Import modules\n",
    "import os\n",
    "import csv"
   ]
  },
  {
   "cell_type": "code",
   "execution_count": 150,
   "metadata": {},
   "outputs": [],
   "source": [
    "# Create necessary variables\n",
    "budget_data = os.path.join(\"..\", \"PyBank\", \"budget_data.csv\")\n",
    "output_path = os.path.join(\"..\", \"PyBank\", \"PyBank.txt\")\n",
    "months = 0\n",
    "net_rev = 0"
   ]
  },
  {
   "cell_type": "code",
   "execution_count": 151,
   "metadata": {},
   "outputs": [],
   "source": [
    "# Create an empty list to store revenue per month\n",
    "rev_per_month = []\n",
    "list_of_dates = []"
   ]
  },
  {
   "cell_type": "code",
   "execution_count": 152,
   "metadata": {
    "scrolled": false
   },
   "outputs": [],
   "source": [
    "# Open the file and read through it; skip over the header and begin to += 1\n",
    "# for each month and net rev; as well as, appending each rev_per_month to its relevant list\n",
    "with open(budget_data, newline='') as budget_ds:\n",
    "    csvreader = csv.reader(budget_ds, delimiter=\",\")\n",
    "    csv_header = next(budget_ds)\n",
    "    for row in csvreader:\n",
    "        months = months + 1\n",
    "        net_rev = net_rev + int(row[1])\n",
    "        rev_per_month.append(int(row[1]))\n",
    "        list_of_dates.append(str(row[0]))"
   ]
  },
  {
   "cell_type": "code",
   "execution_count": 153,
   "metadata": {},
   "outputs": [],
   "source": [
    "# Find the difference btwn each item on my rev_per_month list\n",
    "# Divide the sum of the differences by the number of total months\n",
    "diff_btwn = [rev_per_month[i+1]-rev_per_month[i] for i in range(len(rev_per_month)-1)]\n",
    "numerator = sum(diff_btwn)\n",
    "avg_diff = numerator/months\n",
    "# Round to two points, cause it's currency\n",
    "r_avg_diff = round(avg_diff, 2)"
   ]
  },
  {
   "cell_type": "code",
   "execution_count": 154,
   "metadata": {},
   "outputs": [
    {
     "name": "stdout",
     "output_type": "stream",
     "text": [
      "[-268520, -1334477, 1012383, -8285, 76580, 325421, 146652, -410583, -238532, 272340, -602256, 214235, -260728, 898561, 181634, -826037, -673908, 515053, 568785, 447195, -582443, -1779747, 1760377, -292795, -595588, 769385, 229457, 269376, -1422701, 830596, 764803, -1056690, 329353, 138174, 643748, -538030, -590422, 736642, -1756602, 1837235]\n",
      "1837235\n",
      "-1779747\n"
     ]
    }
   ],
   "source": [
    "# Find max and min values in diff_btwn list;\n",
    "# that being, the greatest inc/dec in profits\n",
    "g_inc_profits = max(diff_btwn)\n",
    "g_dec_profits = min(diff_btwn)\n",
    "print(diff_btwn)\n",
    "print(g_inc_profits)\n",
    "print(g_dec_profits)"
   ]
  },
  {
   "cell_type": "code",
   "execution_count": 155,
   "metadata": {},
   "outputs": [],
   "source": [
    "# Refer to the diff_btwn list and retrieve its index;\n",
    "# add to its value by 1 and search for the missing dates accordingly;\n",
    "for value in diff_btwn:\n",
    "    if (value == g_inc_profits):\n",
    "        db_index_inc = diff_btwn.index(g_inc_profits)\n",
    "    elif (value == g_dec_profits):\n",
    "        db_index_dec = diff_btwn.index(g_dec_profits)\n",
    "# Plus one because of finding diff in btwn rev\n",
    "index_inc_rpm = db_index_inc + 1\n",
    "index_dec_rpm = db_index_dec + 1"
   ]
  },
  {
   "cell_type": "code",
   "execution_count": 156,
   "metadata": {},
   "outputs": [],
   "source": [
    "# Read through list of dates and find appropriate date for rev\n",
    "date_g_inc = list_of_dates[index_inc_rpm]\n",
    "date_g_dec = list_of_dates[index_dec_rpm]"
   ]
  },
  {
   "cell_type": "code",
   "execution_count": 157,
   "metadata": {},
   "outputs": [
    {
     "name": "stdout",
     "output_type": "stream",
     "text": [
      "Financial Analysis\n",
      "------------------------------------------------\n",
      "Total Months: 41\n",
      "Net Revenue: $18971412\n",
      "Average Change: $-6594.12\n",
      "Greatest Increase in Profits: 16-Feb ($1837235)\n",
      "Greatest Decrease in Profits: 14-Aug ($-1779747)\n"
     ]
    }
   ],
   "source": [
    "# Print to terminal\n",
    "print(\"Financial Analysis\")\n",
    "print(\"------------------------------------------------\")\n",
    "print(\"Total Months: \" + str(months))\n",
    "print(\"Net Revenue: \" + \"$\" + str(net_rev))\n",
    "print(\"Average Change: \" + \"$\" + str(r_avg_diff))\n",
    "print(\"Greatest Increase in Profits: \" + str(date_g_inc) + \" ($\" + str(g_inc_profits) + \")\")\n",
    "print(\"Greatest Decrease in Profits: \" + str(date_g_dec) + \" ($\" + str(g_dec_profits) + \")\")"
   ]
  },
  {
   "cell_type": "code",
   "execution_count": 169,
   "metadata": {},
   "outputs": [],
   "source": [
    "# Export as text file\n",
    "# Open the file using \"write\" mode. Specify the variable to hold the contents\n",
    "with open(output_path, 'w', newline='') as text_file:\n",
    "    text_file.write(\"Financial Analysis\\n\"\n",
    "                   \"------------------------------------------------\\n\"\n",
    "                   \"Total Months: \" + str(months) + \"\\n\"\n",
    "                   \"Net Revenue: \" + \"$\" + str(net_rev) + \"\\n\"\n",
    "                   \"Average Change: \" + \"$\" + str(r_avg_diff) + \"\\n\"\n",
    "                   \"Greatest Increase in Profits: \" + str(date_g_inc) + \" ($\" + str(g_inc_profits) + \")\\n\"\n",
    "                   \"Greatest Decrease in Profits: \" + str(date_g_dec) + \" ($\" + str(g_dec_profits) + \")\\n\")"
   ]
  }
 ],
 "metadata": {
  "kernelspec": {
   "display_name": "Python [default]",
   "language": "python",
   "name": "python3"
  },
  "language_info": {
   "codemirror_mode": {
    "name": "ipython",
    "version": 3
   },
   "file_extension": ".py",
   "mimetype": "text/x-python",
   "name": "python",
   "nbconvert_exporter": "python",
   "pygments_lexer": "ipython3",
   "version": "3.6.5"
  }
 },
 "nbformat": 4,
 "nbformat_minor": 2
}

{
 "cells": [
  {
   "cell_type": "code",
   "execution_count": 109,
   "metadata": {},
   "outputs": [],
   "source": [
    "# FOR THE PYPOLL ASSIGNMENT:\n",
    "# Please refer to the election_data.py file for the final source code\n",
    "# This notebook is just a draft"
   ]
  },
  {
   "cell_type": "code",
   "execution_count": null,
   "metadata": {},
   "outputs": [],
   "source": [
    "# Import modules\n",
    "import os\n",
    "import csv"
   ]
  },
  {
   "cell_type": "code",
   "execution_count": 110,
   "metadata": {},
   "outputs": [],
   "source": [
    "# Set up variables\n",
    "total_votes = 0\n",
    "polling_info = os.path.join(\"..\", \"PyPoll\", \"election_data.csv\")\n",
    "output_path = os.path.join(\"..\", \"PyPoll\", \"PyPoll.txt\")\n",
    "list_all_names = []\n",
    "unique_names = []\n",
    "correy_count = 0\n",
    "khan_count = 0\n",
    "li_count = 0\n",
    "o_tooley_count = 0"
   ]
  },
  {
   "cell_type": "code",
   "execution_count": 111,
   "metadata": {},
   "outputs": [],
   "source": [
    "# Open csv; read it;\n",
    "with open(polling_info, newline=\"\") as poll_info:\n",
    "    csvreader = csv.reader(poll_info, delimiter=\",\")\n",
    "    csvheader = next(poll_info)\n",
    "    for row in csvreader:\n",
    "        total_votes += 1\n",
    "        list_all_names.append(str(row[2]))\n",
    "        if row[2] == \"Correy\":\n",
    "            correy_count += 1\n",
    "        elif row[2] == \"Khan\":\n",
    "            khan_count += 1\n",
    "        elif row[2] == \"Li\":\n",
    "            li_count += 1\n",
    "        elif row[2] == \"O'Tooley\":\n",
    "            o_tooley_count += 1"
   ]
  },
  {
   "cell_type": "code",
   "execution_count": 112,
   "metadata": {},
   "outputs": [],
   "source": [
    "pov_correy = round(correy_count / total_votes * 100, 3)\n",
    "pov_khan = round(khan_count / total_votes * 100, 3)\n",
    "pov_li = round(li_count / total_votes * 100, 3)\n",
    "pov_o_tooley = round(o_tooley_count / total_votes * 100, 3)"
   ]
  },
  {
   "cell_type": "code",
   "execution_count": 113,
   "metadata": {},
   "outputs": [],
   "source": [
    "# Run through list_all_names and create if stmt to print unique names into separate list\n",
    "for i in range(len(list_all_names)):\n",
    "    if list_all_names[i+1] != list_all_names[i] and i < (len(list_all_names)):\n",
    "        unique_names.append(str(i))\n",
    "    else:\n",
    "        break"
   ]
  },
  {
   "cell_type": "code",
   "execution_count": 114,
   "metadata": {},
   "outputs": [],
   "source": [
    "# Make a list of the values and find the max to determine the winner\n",
    "candidates_pov_list = [pov_correy, pov_khan, pov_li, pov_o_tooley]\n",
    "winner_pov = max(candidates_pov_list)\n",
    "candidates = [\"Correy\", \"Khan\", \"Li\", \"O'Tooley\"]\n",
    "winner_index = candidates_pov_list.index(winner_pov)\n",
    "#winner = candidates[int(winner_pov.index())]"
   ]
  },
  {
   "cell_type": "code",
   "execution_count": 115,
   "metadata": {},
   "outputs": [
    {
     "name": "stdout",
     "output_type": "stream",
     "text": [
      "Election Results\n",
      "-------------------------\n",
      "Total votes: 3521001\n",
      "-------------------------\n",
      "Correy: 20.0% (704200)\n",
      "Khan: 63.0% (2218231)\n",
      "Li: 14.0% (492940)\n",
      "O'Tooley: 3.0% (105630)\n",
      "-------------------------\n",
      "Winner: Khan\n",
      "-------------------------\n"
     ]
    }
   ],
   "source": [
    "# Print election results to terminal\n",
    "print(\"Election Results\")\n",
    "print(\"-------------------------\")\n",
    "print(\"Total votes: \" + str(total_votes))\n",
    "print(\"-------------------------\")\n",
    "print(\"Correy: \" + str(pov_correy) + \"% (\" + str(correy_count) + \")\")\n",
    "print(\"Khan: \" + str(pov_khan)+ \"% (\" + str(khan_count) + \")\")\n",
    "print(\"Li: \" + str(pov_li)+ \"% (\" + str(li_count) + \")\")\n",
    "print(\"O'Tooley: \" + str(pov_o_tooley)+ \"% (\" + str(o_tooley_count) + \")\")\n",
    "print(\"-------------------------\")\n",
    "print(\"Winner: \" + str(candidates[winner_index]))\n",
    "print(\"-------------------------\")"
   ]
  },
  {
   "cell_type": "code",
   "execution_count": 116,
   "metadata": {},
   "outputs": [],
   "source": [
    "# Export as text file\n",
    "# Open the file using \"write\" mode. Specify the variable to hold the contents\n",
    "with open(output_path, 'w', newline='') as text_file:\n",
    "    text_file.write(\"Election Results\\n\"\n",
    "                    \"-------------------------\\n\"\n",
    "                    \"Total votes: \" + str(total_votes) + \"\\n\"\n",
    "                    \"-------------------------\\n\"\n",
    "                    \"Correy: \" + str(pov_correy) + \"% (\" + str(correy_count) + \")\\n\"\n",
    "                    \"Khan: \" + str(pov_khan)+ \"% (\" + str(khan_count) + \")\\n\"\n",
    "                    \"Li: \" + str(pov_li)+ \"% (\" + str(li_count) + \")\\n\"\n",
    "                    \"O'Tooley: \" + str(pov_o_tooley)+ \"% (\" + str(o_tooley_count) + \")\\n\"\n",
    "                    \"-------------------------\\n\"\n",
    "                    \"Winner: \" + str(candidates[winner_index]) + \"\\n\"\n",
    "                    \"-------------------------\\n\")"
   ]
  }
 ],
 "metadata": {
  "kernelspec": {
   "display_name": "Python [default]",
   "language": "python",
   "name": "python3"
  },
  "language_info": {
   "codemirror_mode": {
    "name": "ipython",
    "version": 3
   },
   "file_extension": ".py",
   "mimetype": "text/x-python",
   "name": "python",
   "nbconvert_exporter": "python",
   "pygments_lexer": "ipython3",
   "version": "3.6.5"
  }
 },
 "nbformat": 4,
 "nbformat_minor": 2
}
